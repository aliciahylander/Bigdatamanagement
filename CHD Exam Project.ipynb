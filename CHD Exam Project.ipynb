{
 "cells": [
  {
   "cell_type": "markdown",
   "id": "b750b5b7",
   "metadata": {},
   "source": [
    "# Tools\n"
   ]
  },
  {
   "cell_type": "code",
   "execution_count": null,
   "id": "d814b716",
   "metadata": {
    "scrolled": true
   },
   "outputs": [],
   "source": [
    "import numpy as np\n",
    "import pandas as pd\n",
    "from sklearn.feature_selection import SelectKBest\n",
    "from sklearn.feature_selection import chi2\n",
    "from pandas import DataFrame\n",
    "from sklearn import linear_model\n",
    "from numpy import mean\n",
    "from numpy import std\n",
    "from numpy import array\n",
    "from sklearn.model_selection import train_test_split\n",
    "from sklearn import tree\n",
    "from sklearn.ensemble import RandomForestClassifier\n",
    "from sklearn.linear_model import LogisticRegression\n",
    "from sklearn.metrics import classification_report, confusion_matrix, roc_curve, auc, precision_recall_curve, f1_score\n",
    "import matplotlib.pyplot as plt\n",
    "import seaborn as sns\n",
    "import warnings\n",
    "\n",
    "warnings.filterwarnings('ignore')"
   ]
  },
  {
   "cell_type": "markdown",
   "id": "980f6196",
   "metadata": {},
   "source": [
    "# Data Loading"
   ]
  },
  {
   "cell_type": "code",
   "execution_count": null,
   "id": "79b137e1",
   "metadata": {
    "scrolled": true
   },
   "outputs": [],
   "source": [
    "#Here we are reading the dataset and looking at the first five instances\n",
    "chd_raw = pd.read_csv('chd-data.csv', sep=',')\n",
    "\n",
    "# fetch dataset \n",
    "chd_raw.head()\n"
   ]
  },
  {
   "cell_type": "markdown",
   "id": "8db96096",
   "metadata": {},
   "source": [
    "Here we're changing the name of the columns \"male\" to \"gender\" (because why the fuck is it called male???) and \"TenYearCHD\" to \"CHD\" because it's more simple"
   ]
  },
  {
   "cell_type": "code",
   "execution_count": null,
   "id": "49aa2b14",
   "metadata": {},
   "outputs": [],
   "source": [
    "chd_raw = chd_raw.rename(columns={'male': 'gender', 'TenYearCHD': 'CHD'})"
   ]
  },
  {
   "cell_type": "code",
   "execution_count": null,
   "id": "eba40579",
   "metadata": {},
   "outputs": [],
   "source": [
    "chd_raw.head()"
   ]
  },
  {
   "cell_type": "markdown",
   "id": "f46eb044",
   "metadata": {},
   "source": [
    "# Data observation"
   ]
  },
  {
   "cell_type": "code",
   "execution_count": null,
   "id": "17cc72d3",
   "metadata": {},
   "outputs": [],
   "source": [
    "#Here we are describing the number of instances and columns\n",
    "chd_raw.shape"
   ]
  },
  {
   "cell_type": "code",
   "execution_count": null,
   "id": "b652b91b",
   "metadata": {
    "scrolled": true
   },
   "outputs": [],
   "source": [
    "chd_raw.info()"
   ]
  },
  {
   "cell_type": "code",
   "execution_count": null,
   "id": "fe075700",
   "metadata": {},
   "outputs": [],
   "source": [
    "chd_raw.describe()"
   ]
  },
  {
   "cell_type": "markdown",
   "id": "79f2dce6",
   "metadata": {},
   "source": [
    "To see which variables that are categorical"
   ]
  },
  {
   "cell_type": "code",
   "execution_count": null,
   "id": "826a25cf",
   "metadata": {},
   "outputs": [],
   "source": [
    "chd_raw._get_numeric_data()"
   ]
  },
  {
   "cell_type": "markdown",
   "id": "c6c2b54c",
   "metadata": {},
   "source": [
    "# Exploratory Data Analysis"
   ]
  },
  {
   "cell_type": "markdown",
   "id": "4050f475",
   "metadata": {},
   "source": [
    "Here we're checking how the dataset is distributed on our target variable"
   ]
  },
  {
   "cell_type": "code",
   "execution_count": null,
   "id": "9f0ba5ad",
   "metadata": {},
   "outputs": [],
   "source": [
    "sns.set_style(\"whitegrid\")\n",
    "\n",
    "# Plot the target variable 'CHD'\n",
    "plt.figure(figsize=(6, 6))\n",
    "sns.countplot(x=chd_raw['CHD'])\n",
    "plt.title('Distribution of Target Variable (Coronary Heart Disease)')\n",
    "plt.show()"
   ]
  },
  {
   "cell_type": "markdown",
   "id": "51aed0f7",
   "metadata": {},
   "source": [
    "Interpretation of the result:\n",
    "\n",
    "-\n",
    "-\n",
    "-\n",
    "-\n",
    "-\n"
   ]
  },
  {
   "cell_type": "markdown",
   "id": "0d0b02dd",
   "metadata": {},
   "source": [
    "Here we're plotting the distribution of the categorical variables"
   ]
  },
  {
   "cell_type": "code",
   "execution_count": null,
   "id": "08412f90",
   "metadata": {},
   "outputs": [],
   "source": [
    "categorical_variables = ['gender', 'currentSmoker', 'BPMeds', 'prevalentStroke', 'prevalentHyp', 'diabetes']\n",
    "\n",
    "# Plotting the bar plots\n",
    "fig, axs = plt.subplots(nrows=3, ncols=2, figsize=(15, 20))\n",
    "\n",
    "for var, subplot in zip(categorical_variables, axs.flatten()):\n",
    "    sns.countplot(x=var, data=chd_raw, ax=subplot)\n",
    "    for label in subplot.get_xticklabels():\n",
    "        label.set_rotation(0)\n",
    "\n",
    "plt.tight_layout()\n",
    "plt.show()"
   ]
  },
  {
   "cell_type": "markdown",
   "id": "c7df3b50",
   "metadata": {},
   "source": [
    "Interpretation of the result:\n",
    "\n",
    "-\n",
    "-\n",
    "-\n",
    "-\n",
    "-"
   ]
  },
  {
   "cell_type": "markdown",
   "id": "e66dabb0",
   "metadata": {},
   "source": [
    "Here we're checking the variables with categorical values against the target variable \"CHD\""
   ]
  },
  {
   "cell_type": "code",
   "execution_count": null,
   "id": "5ef9eb4e",
   "metadata": {},
   "outputs": [],
   "source": [
    "# Plot the categorical variables against the target variable 'CHD'\n",
    "fig, axs = plt.subplots(3, 2, figsize=(20, 20))\n",
    "\n",
    "for var, subplot in zip(categorical_variables, axs.flatten()):\n",
    "    sns.countplot(x=chd_raw[var], hue=chd_raw['CHD'], ax=subplot)\n",
    "    for label in subplot.get_xticklabels():\n",
    "        label.set_rotation(0)\n",
    "\n",
    "plt.tight_layout()\n",
    "plt.show()"
   ]
  },
  {
   "cell_type": "markdown",
   "id": "dbcae105",
   "metadata": {},
   "source": [
    "Interpretation of the result:\n",
    "\n",
    "-\n",
    "-\n",
    "-\n",
    "-\n",
    "-"
   ]
  },
  {
   "cell_type": "markdown",
   "id": "38f9cde3",
   "metadata": {},
   "source": [
    "Here we're ..."
   ]
  },
  {
   "cell_type": "code",
   "execution_count": null,
   "id": "0a1356c9",
   "metadata": {},
   "outputs": [],
   "source": [
    "plt.figure(figsize=(20,10))\n",
    "sns.heatmap(chd_raw.corr(),linewidths=0.1,annot=True)\n",
    "# linewidths is white space between boxes and annot gives value\n",
    "plt.show()"
   ]
  },
  {
   "cell_type": "markdown",
   "id": "1436aba5",
   "metadata": {},
   "source": [
    "Interpretation of the result:\n",
    "\n",
    "-\n",
    "-\n",
    "-\n",
    "-\n",
    "-"
   ]
  },
  {
   "cell_type": "markdown",
   "id": "93fca439",
   "metadata": {},
   "source": [
    "Here we're"
   ]
  },
  {
   "cell_type": "code",
   "execution_count": null,
   "id": "95524dad",
   "metadata": {},
   "outputs": [],
   "source": [
    "# Compute the correlation of each feature with the target variable 'stroke'\n",
    "target_corr_one_hot = chd_raw.corr()['CHD'].drop('CHD')\n",
    "\n",
    "# Sort correlation values in descending order - maybe change names\n",
    "target_corr_sorted_one_hot = target_corr_one_hot.sort_values(ascending=False)\n",
    "\n",
    "# Plot a heatmap of the correlations with the target column\n",
    "plt.figure(figsize=(5, 10))\n",
    "sns.set(font_scale=0.8)\n",
    "sns.heatmap(target_corr_sorted_one_hot.to_frame(), annot=True, cbar=False)\n",
    "plt.title('Correlation with CHD')\n",
    "plt.show()"
   ]
  },
  {
   "cell_type": "markdown",
   "id": "78c112e6",
   "metadata": {},
   "source": [
    "Interpretation of the result:\n",
    "\n",
    "-\n",
    "-\n",
    "-\n",
    "-\n",
    "-"
   ]
  },
  {
   "cell_type": "markdown",
   "id": "cff104bf",
   "metadata": {},
   "source": [
    "Here we're creating histograms to see the distribution of data"
   ]
  },
  {
   "cell_type": "code",
   "execution_count": null,
   "id": "46be16a0",
   "metadata": {},
   "outputs": [],
   "source": [
    "fig = plt.figure(figsize = (15,15))\n",
    "chd_raw.hist(ax = fig.gca())\n",
    "plt.show()"
   ]
  },
  {
   "cell_type": "markdown",
   "id": "250b680c",
   "metadata": {},
   "source": [
    "Interpretation of the result:\n",
    "\n",
    "-\n",
    "-\n"
   ]
  },
  {
   "cell_type": "markdown",
   "id": "b0c62f41",
   "metadata": {},
   "source": [
    "# Data Cleaning"
   ]
  },
  {
   "cell_type": "markdown",
   "id": "ec951e7c",
   "metadata": {},
   "source": [
    "Then we're checking how many duplicates there are in our dataset"
   ]
  },
  {
   "cell_type": "code",
   "execution_count": null,
   "id": "ca436530",
   "metadata": {},
   "outputs": [],
   "source": [
    "chd_raw.duplicated().sum()"
   ]
  },
  {
   "cell_type": "markdown",
   "id": "32c3c31b",
   "metadata": {},
   "source": [
    "There's 0 so nothing to do with this"
   ]
  },
  {
   "cell_type": "markdown",
   "id": "8de242e5",
   "metadata": {},
   "source": [
    "Finding how many columns that have missing values"
   ]
  },
  {
   "cell_type": "code",
   "execution_count": null,
   "id": "a8ae1b39",
   "metadata": {},
   "outputs": [],
   "source": [
    "missing_rows = chd_raw.isna().any(axis=1).sum()\n",
    "missing_rows"
   ]
  },
  {
   "cell_type": "code",
   "execution_count": null,
   "id": "98407e77",
   "metadata": {},
   "outputs": [],
   "source": [
    "null_counts = chd_raw.isna().sum()\n",
    "null_counts"
   ]
  },
  {
   "cell_type": "markdown",
   "id": "52cf5bb8",
   "metadata": {},
   "source": [
    "Finding how many columns that have more than 1 missing value in the same row"
   ]
  },
  {
   "cell_type": "code",
   "execution_count": null,
   "id": "53ebe006",
   "metadata": {},
   "outputs": [],
   "source": [
    "more_than_one_missing = chd_raw.isna().sum(axis=1)>1\n",
    "more_than_one_missing_count = more_than_one_missing.sum()\n",
    "more_than_one_missing_count"
   ]
  },
  {
   "cell_type": "markdown",
   "id": "41caa46c",
   "metadata": {},
   "source": [
    "Result: we want to drop the rows that have more than 1 missing value, because 61 rows is very little compared to over 4000 instances"
   ]
  },
  {
   "cell_type": "markdown",
   "id": "54ae1692",
   "metadata": {},
   "source": [
    "We didn't use dummy variables because there's no columns that has anything else than numeric values. "
   ]
  },
  {
   "cell_type": "markdown",
   "id": "fcb7e3f7",
   "metadata": {},
   "source": [
    "Here we're dropping the rows that have more than 1 missing value"
   ]
  },
  {
   "cell_type": "code",
   "execution_count": null,
   "id": "2dcc5e29",
   "metadata": {},
   "outputs": [],
   "source": [
    "chd_df = chd_raw.dropna(thresh=len(chd_raw.columns)-1)"
   ]
  },
  {
   "cell_type": "code",
   "execution_count": null,
   "id": "16747e8f",
   "metadata": {},
   "outputs": [],
   "source": [
    "chd_df.isnull().sum()"
   ]
  },
  {
   "cell_type": "markdown",
   "id": "7b3a88b9",
   "metadata": {},
   "source": [
    "We're dropping the variable 'education' because there's no explanation of the numbers in the column"
   ]
  },
  {
   "cell_type": "code",
   "execution_count": null,
   "id": "85ddfa85",
   "metadata": {},
   "outputs": [],
   "source": [
    "chd_df.drop(['education'], axis=1, inplace=True)"
   ]
  },
  {
   "cell_type": "code",
   "execution_count": null,
   "id": "3ea98591",
   "metadata": {},
   "outputs": [],
   "source": [
    "chd_df.isnull().sum()"
   ]
  },
  {
   "cell_type": "markdown",
   "id": "aca28cab",
   "metadata": {},
   "source": [
    "Now we're filling in the rest of the missing values - decision between mode, mean or median is based on the histograms above "
   ]
  },
  {
   "cell_type": "code",
   "execution_count": null,
   "id": "47548ebe",
   "metadata": {},
   "outputs": [],
   "source": [
    "chd_df['cigsPerDay'].fillna(chd_df['cigsPerDay'].mode()[0], inplace=True)\n",
    "chd_df['BPMeds'].fillna(chd_df['BPMeds'].mode()[0], inplace=True)\n",
    "chd_df['totChol'].fillna(chd_df['totChol'].median(), inplace=True)  \n",
    "chd_df['BMI'].fillna(chd_df['BMI'].median(), inplace=True)\n",
    "chd_df['heartRate'].fillna(chd_df['heartRate'].mean(), inplace=True) \n",
    "chd_df['glucose'].fillna(chd_df['glucose'].median(), inplace=True)"
   ]
  },
  {
   "cell_type": "code",
   "execution_count": null,
   "id": "eab9fa54",
   "metadata": {},
   "outputs": [],
   "source": [
    "chd_df.isnull().sum()"
   ]
  },
  {
   "cell_type": "markdown",
   "id": "37196879",
   "metadata": {},
   "source": [
    "# Feature Selection"
   ]
  },
  {
   "cell_type": "markdown",
   "id": "4070901b",
   "metadata": {},
   "source": [
    "Here we're checking which variables that have the strongest correlation with the target variable with SelectKBest and Chi2"
   ]
  },
  {
   "cell_type": "code",
   "execution_count": null,
   "id": "e6b25c5d",
   "metadata": {},
   "outputs": [],
   "source": [
    "X = chd_df.iloc[:,0:14]  \n",
    "y = chd_df.iloc[:,-1]    \n",
    "\n",
    "bestfeatures = SelectKBest(score_func=chi2, k=10)\n",
    "fit = bestfeatures.fit(X,y)\n",
    "dfscores = pd.DataFrame(fit.scores_)\n",
    "dfcolumns = pd.DataFrame(X.columns)\n",
    "\n",
    "featureScores = pd.concat([dfcolumns,dfscores],axis=1)\n",
    "featureScores.columns = ['Specs','Score']  \n",
    "print(featureScores.nlargest(14,'Score'))"
   ]
  },
  {
   "cell_type": "markdown",
   "id": "1e8b0633",
   "metadata": {},
   "source": [
    "Based on the above results we have chosen to drop BMI, heartRate and currentSmoker as they have the least impact on target variable."
   ]
  },
  {
   "cell_type": "markdown",
   "id": "2895cf3d",
   "metadata": {},
   "source": [
    "# Logistic Regression"
   ]
  },
  {
   "cell_type": "code",
   "execution_count": null,
   "id": "f071da0d",
   "metadata": {},
   "outputs": [],
   "source": [
    "columns_new = ['sysBP', 'glucose', 'age', 'totChol', 'cigsPerDay', 'diaBP', 'prevalentHyp', 'diabetes', 'BPMeds', 'gender', 'prevalentStroke']\n",
    "X = chd_df[columns_new]\n",
    "y = chd_df[\"CHD\"]\n",
    "\n",
    "X_train, X_test, y_train, y_test = train_test_split(X, y, random_state=42)\n",
    "print((\"Xtrain\", X_train.shape, \"y_train\", \n",
    "      y_train.shape, \"X_test\", X_test.shape, \"y_test\", y_test.shape))"
   ]
  },
  {
   "cell_type": "code",
   "execution_count": null,
   "id": "3c54e1ae",
   "metadata": {},
   "outputs": [],
   "source": [
    "from collections import Counter\n",
    "from imblearn.over_sampling import SMOTE\n",
    "sm = SMOTE(random_state=42)\n",
    "\n",
    "X_train_res, y_train_res = sm.fit_resample(X_train, y_train) \n",
    "\n",
    "print('Without SMOTE')\n",
    "\n",
    "print('Distribution of No CHD (0) and CHD (1) %s' % Counter(y))\n",
    "print(f'''Shape of X: {X_train.shape}\n",
    "Shape of y: {y_train.shape}''')\n",
    "print('')\n",
    "print('With SMOTE')\n",
    "print('Distribution of No CHD (0) and CHD (1) %s ' % Counter(y_res))\n",
    "\n",
    "print(f'''Shape of X: {X_train_res.shape}\n",
    "Shape of y: {y_train_res.shape}''')"
   ]
  },
  {
   "cell_type": "code",
   "execution_count": null,
   "id": "f3238d21",
   "metadata": {},
   "outputs": [],
   "source": [
    "sum(y_train_res)/len(y_train_res)"
   ]
  },
  {
   "cell_type": "markdown",
   "id": "700c7a01",
   "metadata": {},
   "source": [
    "WITHOUT SMOTE"
   ]
  },
  {
   "cell_type": "code",
   "execution_count": null,
   "id": "78d6acc7",
   "metadata": {},
   "outputs": [],
   "source": [
    "log_reg = LogisticRegression()\n",
    "log_reg.fit(X_train, y_train)\n",
    "log_reg_y_pred = log_reg.predict(X_test)\n",
    "print(\"Score on training set: {:.3f}\".format(log_reg.score(X_train, y_train)))\n",
    "print(\"Score on test set: {:.3f}\".format(log_reg.score(X_test, y_test)))"
   ]
  },
  {
   "cell_type": "markdown",
   "id": "313cea8d",
   "metadata": {},
   "source": [
    "WITH SMOTE"
   ]
  },
  {
   "cell_type": "code",
   "execution_count": null,
   "id": "e252e372",
   "metadata": {},
   "outputs": [],
   "source": [
    "log_reg_sm = LogisticRegression(max_iter=1000)\n",
    "log_reg_sm.fit(X_res, y_res)\n",
    "log_reg_sm_y_pred = log_reg_sm.predict(X_test)\n",
    "print(\"Accuracy on training set: {:.3f}\".format(log_reg_sm.score(X_train_res, y_train_res)))\n",
    "print(\"Accuracy on test set: {:.3f}\".format(log_reg_sm.score(X_test, y_test)))"
   ]
  },
  {
   "cell_type": "markdown",
   "id": "46200b54",
   "metadata": {},
   "source": [
    "WITHOUT SMOTE"
   ]
  },
  {
   "cell_type": "code",
   "execution_count": null,
   "id": "727cfe57",
   "metadata": {},
   "outputs": [],
   "source": [
    "print(classification_report(y_test, log_reg_y_pred))"
   ]
  },
  {
   "cell_type": "markdown",
   "id": "307c50cb",
   "metadata": {},
   "source": [
    "- Precision measures the accuracy of positive predictions. The model has a high precision (0.84) for predicting no CHD, meaning that when the model predicts that a patient will not have a CHD, it is correct 84% of the time. However, the precision is much lower for predicting stroke (0.5), meaning that when the model predicts a CHD, it is correct only 50% of the time\n",
    "\n",
    "- Recall (also known as sensitivity or true positive rate) measures the fraction of positives that were correctly identified. The model has a recall of 1.0 for no CHD and 0.02 for CHD. This means that the model correctly identifies 100% of the patients who will not have a CHD and 0.2% of the patients who will have a CHD. The lower recall for CHD indicates that the model is missing a large number of patients who will have a CHD.\n",
    "\n",
    "- The F1 score is a weighted average of precision and recall. The F1 scores for no CHD and CHD are 0.91 and 0.03, respectively. The low F1 score for CHD indicates that the model's performance is very poor when it comes to predicting CHD.\n",
    "\n",
    "- The accuracy of the model is 0.84, which means that the model correctly predicts whether a patient will have a CHD or not in 84% of the cases. However, accuracy can be misleading when dealing with imbalanced classes, as it is in this case."
   ]
  },
  {
   "cell_type": "markdown",
   "id": "ae251bdb",
   "metadata": {},
   "source": [
    "WITH SMOTE"
   ]
  },
  {
   "cell_type": "code",
   "execution_count": null,
   "id": "5c916a1e",
   "metadata": {},
   "outputs": [],
   "source": [
    "print(classification_report(y_test, log_reg_sm_y_pred))"
   ]
  },
  {
   "cell_type": "markdown",
   "id": "9de279aa",
   "metadata": {},
   "source": [
    "It's evident that the recall and F1 score for predicting CHD correctly is much better with SMOTE"
   ]
  },
  {
   "cell_type": "markdown",
   "id": "7424cb9e",
   "metadata": {},
   "source": [
    "Confusion matrix WITHOUT SMOTE"
   ]
  },
  {
   "cell_type": "code",
   "execution_count": null,
   "id": "b2bc13e5",
   "metadata": {},
   "outputs": [],
   "source": [
    "cm1 = confusion_matrix(y_train,log_reg.predict(X_train))\n",
    "ax= plt.subplot()\n",
    "sns.heatmap(cm1,annot=True, ax = ax, fmt='d')\n",
    "ax.set_xlabel('Predicted labels');ax.set_ylabel('True labels'); \n",
    "ax.set_title('Logistic Regression - Training');\n",
    "ax.xaxis.set_ticklabels(['0', '1']); ax.yaxis.set_ticklabels(['0', '1']);\n"
   ]
  },
  {
   "cell_type": "markdown",
   "id": "8cae0f3a",
   "metadata": {},
   "source": [
    "447 people are false negative = not so good"
   ]
  },
  {
   "cell_type": "markdown",
   "id": "76e7521c",
   "metadata": {},
   "source": [
    "Confusion matrix WITH SMOTE"
   ]
  },
  {
   "cell_type": "code",
   "execution_count": null,
   "id": "cd62ed9d",
   "metadata": {},
   "outputs": [],
   "source": [
    "cm2 = confusion_matrix(y_train_res,log_reg_sm.predict(X_train_res))\n",
    "ax= plt.subplot()\n",
    "sns.heatmap(cm2,annot=True, ax = ax, fmt='d')\n",
    "ax.set_xlabel('Predicted labels');ax.set_ylabel('True labels'); \n",
    "ax.set_title('Logistic Regression - Training');\n",
    "ax.xaxis.set_ticklabels(['0', '1']); ax.yaxis.set_ticklabels(['0', '1']);"
   ]
  },
  {
   "cell_type": "markdown",
   "id": "e3c1330f",
   "metadata": {},
   "source": [
    "ROC WITHOUT SMOTE"
   ]
  },
  {
   "cell_type": "code",
   "execution_count": null,
   "id": "cd644a4e",
   "metadata": {},
   "outputs": [],
   "source": [
    "# Step 1: Compute the predicted probabilities for the positive class\n",
    "y_prob = log_reg.predict_proba(X_test)[:,1]\n",
    "\n",
    "# Step 2: Compute FPR, TPR, and thresholds\n",
    "fpr, tpr, thresholds = roc_curve(y_test, y_prob)\n",
    "\n",
    "# Step 3: Compute the AUC\n",
    "roc_auc = auc(fpr, tpr)\n",
    "\n",
    "# Step 4: Plot the ROC curve\n",
    "plt.figure(figsize=(8, 6))\n",
    "plt.plot(fpr, tpr, color='darkorange', lw=2, label='ROC curve (AUC = %0.2f)' % roc_auc)\n",
    "plt.plot([0, 1], [0, 1], color='navy', lw=2, linestyle='--') # diagonal line\n",
    "plt.xlim([0.0, 1.0])\n",
    "plt.ylim([0.0, 1.05])\n",
    "plt.xlabel('False Positive Rate')\n",
    "plt.ylabel('True Positive Rate')\n",
    "plt.title('Receiver Operating Characteristic (ROC) Curve')\n",
    "plt.legend(loc='lower right')\n",
    "plt.show()"
   ]
  },
  {
   "cell_type": "markdown",
   "id": "f55b1fd9",
   "metadata": {},
   "source": [
    "This ROC value indicates a poor performance - there is a 72% chance that the model will be able to distinguish between positive class and negative class"
   ]
  },
  {
   "cell_type": "markdown",
   "id": "6a1cfb38",
   "metadata": {},
   "source": [
    "ROC WITH SMOTE"
   ]
  },
  {
   "cell_type": "code",
   "execution_count": null,
   "id": "ecf2b997",
   "metadata": {},
   "outputs": [],
   "source": [
    "# Step 1: Compute the predicted probabilities for the positive class\n",
    "y_prob_sm = log_reg_sm.predict_proba(X_test)[:,1]\n",
    "\n",
    "# Step 2: Compute FPR, TPR, and thresholds\n",
    "fpr, tpr, thresholds = roc_curve(y_test, y_prob_sm)\n",
    "\n",
    "# Step 3: Compute the AUC\n",
    "roc_auc = auc(fpr, tpr)\n",
    "\n",
    "# Step 4: Plot the ROC curve\n",
    "plt.figure(figsize=(8, 6))\n",
    "plt.plot(fpr, tpr, color='darkorange', lw=2, label='ROC curve (AUC = %0.2f)' % roc_auc)\n",
    "plt.plot([0, 1], [0, 1], color='navy', lw=2, linestyle='--') # diagonal line\n",
    "plt.xlim([0.0, 1.0])\n",
    "plt.ylim([0.0, 1.05])\n",
    "plt.xlabel('False Positive Rate')\n",
    "plt.ylabel('True Positive Rate')\n",
    "plt.title('Receiver Operating Characteristic (ROC) Curve')\n",
    "plt.legend(loc='lower right')\n",
    "plt.show()"
   ]
  },
  {
   "cell_type": "markdown",
   "id": "cbbf5eaa",
   "metadata": {},
   "source": [
    "# Random Forest"
   ]
  },
  {
   "cell_type": "markdown",
   "id": "efc65809",
   "metadata": {},
   "source": [
    "WITHOUT SMOTE"
   ]
  },
  {
   "cell_type": "code",
   "execution_count": null,
   "id": "4e7c35c3",
   "metadata": {},
   "outputs": [],
   "source": [
    "rf = RandomForestClassifier(max_depth=10)\n",
    "rf.fit(X_train, y_train)\n",
    "rf_y_pred = rf.predict(X_test)\n",
    "print(\"Accuracy on training set: {:.3f}\".format(rf.score(X_train, y_train)))\n",
    "print(\"Accuracy on test set: {:.3f}\".format(rf.score(X_test, y_test)))"
   ]
  },
  {
   "cell_type": "markdown",
   "id": "b1d1f06a",
   "metadata": {},
   "source": [
    "WITH SMOTE"
   ]
  },
  {
   "cell_type": "code",
   "execution_count": null,
   "id": "95385500",
   "metadata": {},
   "outputs": [],
   "source": [
    "rf_sm = RandomForestClassifier(max_depth=10)\n",
    "rf_sm.fit(X_train_res, y_train_res)\n",
    "rf_sm_y_pred = rf.predict(X_test)\n",
    "print(\"Accuracy on training set: {:.3f}\".format(rf.score(X_train_res, y_train_res)))\n",
    "print(\"Accuracy on test set: {:.3f}\".format(rf.score(X_test, y_test)))"
   ]
  },
  {
   "cell_type": "markdown",
   "id": "72898a08",
   "metadata": {},
   "source": [
    "Classification report WITHOUT SMOTE"
   ]
  },
  {
   "cell_type": "code",
   "execution_count": null,
   "id": "5c4f9f22",
   "metadata": {},
   "outputs": [],
   "source": [
    "print(classification_report(y_test, rf_y_pred))"
   ]
  },
  {
   "cell_type": "markdown",
   "id": "4efe1685",
   "metadata": {},
   "source": [
    "Classifciation report WITH SMOTE"
   ]
  },
  {
   "cell_type": "code",
   "execution_count": null,
   "id": "b6539aab",
   "metadata": {},
   "outputs": [],
   "source": [
    "print(classification_report(y_test, rf_sm_y_pred))"
   ]
  },
  {
   "cell_type": "markdown",
   "id": "d5b71479",
   "metadata": {},
   "source": [
    "# Decision Tree Classifier "
   ]
  },
  {
   "cell_type": "code",
   "execution_count": null,
   "id": "2ffd162e",
   "metadata": {},
   "outputs": [],
   "source": [
    "columns = ['sysBP', 'glucose', 'age', 'totChol', 'cigsPerDay', 'diaBP', 'prevalentHyp', 'diabetes', 'BPMeds', 'gender', 'prevalentStroke', 'BMI', 'heartRate', 'currentSmoker']\n",
    "X = chd_df[columns]\n",
    "X\n",
    "y = chd_df[\"CHD\"]\n",
    "y\n",
    "\n",
    "decisionTree = tree.DecisionTreeClassifier() \n",
    "decisionTree.fit(X, y)\n",
    "print(\"Accuracy on trained data set - gotta change this: {:.3f}\".format(decisionTree.score(X, y)))\n",
    "\n"
   ]
  },
  {
   "cell_type": "code",
   "execution_count": null,
   "id": "a6ee5bbc",
   "metadata": {},
   "outputs": [],
   "source": [
    "decisionTree = tree.DecisionTreeClassifier(max_depth=5) \n",
    "decisionTree.fit(X, y)\n",
    "print(\"Accuracy on training set: {:.3f}\".format(decisionTree.score(X, y)))"
   ]
  },
  {
   "cell_type": "code",
   "execution_count": null,
   "id": "e630cfab",
   "metadata": {},
   "outputs": [],
   "source": []
  },
  {
   "cell_type": "code",
   "execution_count": null,
   "id": "e81c97b7",
   "metadata": {},
   "outputs": [],
   "source": []
  },
  {
   "cell_type": "code",
   "execution_count": null,
   "id": "cf696a10",
   "metadata": {},
   "outputs": [],
   "source": []
  },
  {
   "cell_type": "code",
   "execution_count": null,
   "id": "54bf3945",
   "metadata": {},
   "outputs": [],
   "source": []
  },
  {
   "cell_type": "code",
   "execution_count": null,
   "id": "bffb51c2",
   "metadata": {},
   "outputs": [],
   "source": []
  },
  {
   "cell_type": "code",
   "execution_count": null,
   "id": "4f14b2f9",
   "metadata": {},
   "outputs": [],
   "source": []
  },
  {
   "cell_type": "code",
   "execution_count": null,
   "id": "2281a255",
   "metadata": {},
   "outputs": [],
   "source": []
  }
 ],
 "metadata": {
  "kernelspec": {
   "display_name": "Python 3 (ipykernel)",
   "language": "python",
   "name": "python3"
  },
  "language_info": {
   "codemirror_mode": {
    "name": "ipython",
    "version": 3
   },
   "file_extension": ".py",
   "mimetype": "text/x-python",
   "name": "python",
   "nbconvert_exporter": "python",
   "pygments_lexer": "ipython3",
   "version": "3.11.4"
  }
 },
 "nbformat": 4,
 "nbformat_minor": 5
}
